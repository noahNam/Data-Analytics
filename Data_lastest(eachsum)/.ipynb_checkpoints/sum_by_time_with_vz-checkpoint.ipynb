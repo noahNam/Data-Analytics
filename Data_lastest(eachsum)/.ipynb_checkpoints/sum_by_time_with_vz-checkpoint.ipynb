{
 "cells": [
  {
   "cell_type": "code",
   "execution_count": 1,
   "metadata": {},
   "outputs": [],
   "source": [
    "import pandas as pd\n",
    "import matplotlib.pyplot as plt"
   ]
  },
  {
   "cell_type": "code",
   "execution_count": 2,
   "metadata": {},
   "outputs": [],
   "source": [
    "a_df=pd.read_excel('a.xlsx')"
   ]
  },
  {
   "cell_type": "code",
   "execution_count": 3,
   "metadata": {},
   "outputs": [],
   "source": [
    "b_df=pd.read_excel('b.xlsx')"
   ]
  },
  {
   "cell_type": "code",
   "execution_count": 4,
   "metadata": {},
   "outputs": [],
   "source": [
    "c_df=pd.read_excel('c.xlsx')"
   ]
  },
  {
   "cell_type": "code",
   "execution_count": 5,
   "metadata": {},
   "outputs": [
    {
     "data": {
      "text/plain": [
       "(1064, 97)"
      ]
     },
     "execution_count": 5,
     "metadata": {},
     "output_type": "execute_result"
    }
   ],
   "source": [
    "a_df.shape"
   ]
  },
  {
   "cell_type": "code",
   "execution_count": 6,
   "metadata": {},
   "outputs": [
    {
     "data": {
      "text/plain": [
       "(1047, 97)"
      ]
     },
     "execution_count": 6,
     "metadata": {},
     "output_type": "execute_result"
    }
   ],
   "source": [
    "b_df.shape"
   ]
  },
  {
   "cell_type": "code",
   "execution_count": 7,
   "metadata": {},
   "outputs": [
    {
     "data": {
      "text/plain": [
       "(1063, 97)"
      ]
     },
     "execution_count": 7,
     "metadata": {},
     "output_type": "execute_result"
    }
   ],
   "source": [
    "c_df.shape"
   ]
  },
  {
   "cell_type": "markdown",
   "metadata": {},
   "source": [
    "# 시간별 합계"
   ]
  },
  {
   "cell_type": "code",
   "execution_count": 8,
   "metadata": {},
   "outputs": [],
   "source": [
    "def sum_times(df):\n",
    "    t_df=df.groupby('date').sum().T\n",
    "    t_df['times']=[str(i)[:2] for i in a_df.columns[1:]]\n",
    "    return t_df.groupby('times').sum().T"
   ]
  },
  {
   "cell_type": "code",
   "execution_count": 9,
   "metadata": {},
   "outputs": [],
   "source": [
    "a_times_sum=sum_times(a_df)\n",
    "b_times_sum=sum_times(b_df)\n",
    "c_times_sum=sum_times(c_df)"
   ]
  },
  {
   "cell_type": "markdown",
   "metadata": {},
   "source": [
    "## 일별 합계"
   ]
  },
  {
   "cell_type": "code",
   "execution_count": 10,
   "metadata": {},
   "outputs": [],
   "source": [
    "def sum_days(df):\n",
    "    return df.groupby('date').sum().T.sum()"
   ]
  },
  {
   "cell_type": "code",
   "execution_count": 11,
   "metadata": {},
   "outputs": [],
   "source": [
    "a_days_sum=sum_days(a_df)\n",
    "b_days_sum=sum_days(b_df)\n",
    "c_days_sum=sum_days(c_df)"
   ]
  },
  {
   "cell_type": "markdown",
   "metadata": {},
   "source": [
    "## 월별 총 합계"
   ]
  },
  {
   "cell_type": "code",
   "execution_count": 12,
   "metadata": {},
   "outputs": [],
   "source": [
    "def sum_month(df):\n",
    "    df['month']=[i.split('-')[0]+i.split('-')[1] for i in df.index]\n",
    "    return df.groupby('month').sum().T.sum()"
   ]
  },
  {
   "cell_type": "code",
   "execution_count": 13,
   "metadata": {},
   "outputs": [],
   "source": [
    "a_times_month=sum_month(a_times_sum)\n",
    "b_times_month=sum_month(b_times_sum)\n",
    "c_times_month=sum_month(c_times_sum)"
   ]
  },
  {
   "cell_type": "markdown",
   "metadata": {},
   "source": [
    "## 연별 총 합계"
   ]
  },
  {
   "cell_type": "code",
   "execution_count": 14,
   "metadata": {},
   "outputs": [],
   "source": [
    "def sum_years(df):\n",
    "    df['year']=[i[:4] for i in df.date]\n",
    "    return df.groupby('year').sum().T.sum()"
   ]
  },
  {
   "cell_type": "code",
   "execution_count": 15,
   "metadata": {},
   "outputs": [],
   "source": [
    "a_years_sum=sum_years(a_df)\n",
    "b_years_sum=sum_years(b_df)\n",
    "c_years_sum=sum_years(c_df)"
   ]
  },
  {
   "cell_type": "markdown",
   "metadata": {},
   "source": [
    "## 시각화"
   ]
  },
  {
   "cell_type": "code",
   "execution_count": 17,
   "metadata": {},
   "outputs": [],
   "source": [
    "a_times=a_times_sum.drop(['month'],axis=1).sum()\n",
    "b_times=b_times_sum.drop(['month'],axis=1).sum()\n",
    "c_times=c_times_sum.drop(['month'],axis=1).sum()"
   ]
  },
  {
   "cell_type": "code",
   "execution_count": 18,
   "metadata": {},
   "outputs": [],
   "source": [
    "time_by_co=pd.DataFrame([a_times,b_times,c_times])"
   ]
  },
  {
   "cell_type": "code",
   "execution_count": 19,
   "metadata": {},
   "outputs": [],
   "source": [
    "time_by_co.index=['A','B','C']"
   ]
  },
  {
   "cell_type": "code",
   "execution_count": 20,
   "metadata": {},
   "outputs": [
    {
     "data": {
      "text/html": [
       "<div>\n",
       "<style scoped>\n",
       "    .dataframe tbody tr th:only-of-type {\n",
       "        vertical-align: middle;\n",
       "    }\n",
       "\n",
       "    .dataframe tbody tr th {\n",
       "        vertical-align: top;\n",
       "    }\n",
       "\n",
       "    .dataframe thead th {\n",
       "        text-align: right;\n",
       "    }\n",
       "</style>\n",
       "<table border=\"1\" class=\"dataframe\">\n",
       "  <thead>\n",
       "    <tr style=\"text-align: right;\">\n",
       "      <th>times</th>\n",
       "      <th>00</th>\n",
       "      <th>01</th>\n",
       "      <th>02</th>\n",
       "      <th>03</th>\n",
       "      <th>04</th>\n",
       "      <th>05</th>\n",
       "      <th>06</th>\n",
       "      <th>07</th>\n",
       "      <th>08</th>\n",
       "      <th>09</th>\n",
       "      <th>...</th>\n",
       "      <th>15</th>\n",
       "      <th>16</th>\n",
       "      <th>17</th>\n",
       "      <th>18</th>\n",
       "      <th>19</th>\n",
       "      <th>20</th>\n",
       "      <th>21</th>\n",
       "      <th>22</th>\n",
       "      <th>23</th>\n",
       "      <th>24</th>\n",
       "    </tr>\n",
       "  </thead>\n",
       "  <tbody>\n",
       "    <tr>\n",
       "      <th>A</th>\n",
       "      <td>36075316.2</td>\n",
       "      <td>48952776.6</td>\n",
       "      <td>49203445.2</td>\n",
       "      <td>49019653.2</td>\n",
       "      <td>49279574.4</td>\n",
       "      <td>49315753.2</td>\n",
       "      <td>48835945.2</td>\n",
       "      <td>47611145.4</td>\n",
       "      <td>46641096.6</td>\n",
       "      <td>42291270.0</td>\n",
       "      <td>...</td>\n",
       "      <td>36925387.8</td>\n",
       "      <td>37010992.2</td>\n",
       "      <td>38900580.6</td>\n",
       "      <td>39151522.2</td>\n",
       "      <td>40077958.2</td>\n",
       "      <td>41620131.0</td>\n",
       "      <td>42244792.8</td>\n",
       "      <td>42026212.2</td>\n",
       "      <td>45150063.0</td>\n",
       "      <td>11735014.2</td>\n",
       "    </tr>\n",
       "    <tr>\n",
       "      <th>B</th>\n",
       "      <td>53923094.4</td>\n",
       "      <td>72644308.8</td>\n",
       "      <td>73290016.8</td>\n",
       "      <td>73812219.6</td>\n",
       "      <td>73693460.4</td>\n",
       "      <td>73872414.0</td>\n",
       "      <td>73717568.4</td>\n",
       "      <td>73335570.0</td>\n",
       "      <td>72443708.4</td>\n",
       "      <td>70900166.4</td>\n",
       "      <td>...</td>\n",
       "      <td>66100347.6</td>\n",
       "      <td>66303778.8</td>\n",
       "      <td>65817049.2</td>\n",
       "      <td>65685051.6</td>\n",
       "      <td>66253185.6</td>\n",
       "      <td>67720590.0</td>\n",
       "      <td>68781795.6</td>\n",
       "      <td>69076140.0</td>\n",
       "      <td>70094984.4</td>\n",
       "      <td>17427034.8</td>\n",
       "    </tr>\n",
       "    <tr>\n",
       "      <th>C</th>\n",
       "      <td>77755182.4</td>\n",
       "      <td>105670210.8</td>\n",
       "      <td>107150027.6</td>\n",
       "      <td>108278181.2</td>\n",
       "      <td>108556728.0</td>\n",
       "      <td>108564416.8</td>\n",
       "      <td>108407989.2</td>\n",
       "      <td>107670368.4</td>\n",
       "      <td>105180647.6</td>\n",
       "      <td>93450840.0</td>\n",
       "      <td>...</td>\n",
       "      <td>78951717.6</td>\n",
       "      <td>78776843.6</td>\n",
       "      <td>82200465.2</td>\n",
       "      <td>85511958.0</td>\n",
       "      <td>87519082.0</td>\n",
       "      <td>90894414.8</td>\n",
       "      <td>94288023.2</td>\n",
       "      <td>96162953.6</td>\n",
       "      <td>101961857.2</td>\n",
       "      <td>25617132.8</td>\n",
       "    </tr>\n",
       "  </tbody>\n",
       "</table>\n",
       "<p>3 rows × 25 columns</p>\n",
       "</div>"
      ],
      "text/plain": [
       "times          00           01           02           03           04  \\\n",
       "A      36075316.2   48952776.6   49203445.2   49019653.2   49279574.4   \n",
       "B      53923094.4   72644308.8   73290016.8   73812219.6   73693460.4   \n",
       "C      77755182.4  105670210.8  107150027.6  108278181.2  108556728.0   \n",
       "\n",
       "times           05           06           07           08          09  \\\n",
       "A       49315753.2   48835945.2   47611145.4   46641096.6  42291270.0   \n",
       "B       73872414.0   73717568.4   73335570.0   72443708.4  70900166.4   \n",
       "C      108564416.8  108407989.2  107670368.4  105180647.6  93450840.0   \n",
       "\n",
       "times     ...              15          16          17          18          19  \\\n",
       "A         ...      36925387.8  37010992.2  38900580.6  39151522.2  40077958.2   \n",
       "B         ...      66100347.6  66303778.8  65817049.2  65685051.6  66253185.6   \n",
       "C         ...      78951717.6  78776843.6  82200465.2  85511958.0  87519082.0   \n",
       "\n",
       "times          20          21          22           23          24  \n",
       "A      41620131.0  42244792.8  42026212.2   45150063.0  11735014.2  \n",
       "B      67720590.0  68781795.6  69076140.0   70094984.4  17427034.8  \n",
       "C      90894414.8  94288023.2  96162953.6  101961857.2  25617132.8  \n",
       "\n",
       "[3 rows x 25 columns]"
      ]
     },
     "execution_count": 20,
     "metadata": {},
     "output_type": "execute_result"
    }
   ],
   "source": [
    "time_by_co"
   ]
  },
  {
   "cell_type": "markdown",
   "metadata": {},
   "source": [
    "## 회사별 시간별 사용량"
   ]
  },
  {
   "cell_type": "code",
   "execution_count": 21,
   "metadata": {},
   "outputs": [
    {
     "data": {
      "image/png": "[encoded data removed]",
      "text/plain": [
       "<Figure size 864x576 with 1 Axes>"
      ]
     },
     "metadata": {
      "needs_background": "light"
     },
     "output_type": "display_data"
    }
   ],
   "source": [
    "lines = time_by_co.T.plot.line(figsize=(12,8))\n",
    "plt.show()"
   ]
  },
  {
   "cell_type": "markdown",
   "metadata": {},
   "source": [
    "## 회사별 일별 사용량"
   ]
  },
  {
   "cell_type": "code",
   "execution_count": 22,
   "metadata": {},
   "outputs": [],
   "source": [
    "day_by_co=pd.DataFrame([a_days_sum,b_days_sum,c_days_sum])\n",
    "day_by_co.index=['A','B','C']"
   ]
  },
  {
   "cell_type": "code",
   "execution_count": 23,
   "metadata": {},
   "outputs": [],
   "source": [
    "day_by_co.to_excel('day_by_co.xlsx')"
   ]
  },
  {
   "cell_type": "markdown",
   "metadata": {},
   "source": [
    "![day_by_co](day_by_co.png)"
   ]
  },
  {
   "cell_type": "markdown",
   "metadata": {},
   "source": [
    "## 월별 회사별 사용량"
   ]
  },
  {
   "cell_type": "code",
   "execution_count": 24,
   "metadata": {},
   "outputs": [],
   "source": [
    "month_by_co=pd.DataFrame([a_times_month,b_times_month,c_times_month])\n",
    "month_by_co.index=['A','B','C']"
   ]
  },
  {
   "cell_type": "code",
   "execution_count": 25,
   "metadata": {},
   "outputs": [
    {
     "data": {
      "text/html": [
       "<div>\n",
       "<style scoped>\n",
       "    .dataframe tbody tr th:only-of-type {\n",
       "        vertical-align: middle;\n",
       "    }\n",
       "\n",
       "    .dataframe tbody tr th {\n",
       "        vertical-align: top;\n",
       "    }\n",
       "\n",
       "    .dataframe thead th {\n",
       "        text-align: right;\n",
       "    }\n",
       "</style>\n",
       "<table border=\"1\" class=\"dataframe\">\n",
       "  <thead>\n",
       "    <tr style=\"text-align: right;\">\n",
       "      <th>month</th>\n",
       "      <th>201701</th>\n",
       "      <th>201702</th>\n",
       "      <th>201703</th>\n",
       "      <th>201704</th>\n",
       "      <th>201705</th>\n",
       "      <th>201706</th>\n",
       "      <th>201707</th>\n",
       "      <th>201708</th>\n",
       "      <th>201709</th>\n",
       "      <th>201710</th>\n",
       "      <th>...</th>\n",
       "      <th>201902</th>\n",
       "      <th>201903</th>\n",
       "      <th>201904</th>\n",
       "      <th>201905</th>\n",
       "      <th>201906</th>\n",
       "      <th>201907</th>\n",
       "      <th>201908</th>\n",
       "      <th>201909</th>\n",
       "      <th>201910</th>\n",
       "      <th>201911</th>\n",
       "    </tr>\n",
       "  </thead>\n",
       "  <tbody>\n",
       "    <tr>\n",
       "      <th>A</th>\n",
       "      <td>26797075.2</td>\n",
       "      <td>25329053.4</td>\n",
       "      <td>35317552.2</td>\n",
       "      <td>34397764.8</td>\n",
       "      <td>34989150.0</td>\n",
       "      <td>33888976.8</td>\n",
       "      <td>33116731.2</td>\n",
       "      <td>30149469.0</td>\n",
       "      <td>30555176.4</td>\n",
       "      <td>33389575.8</td>\n",
       "      <td>...</td>\n",
       "      <td>23581752.6</td>\n",
       "      <td>30515461.2</td>\n",
       "      <td>33418287.0</td>\n",
       "      <td>34358616.6</td>\n",
       "      <td>33796522.2</td>\n",
       "      <td>30157142.4</td>\n",
       "      <td>30387079.8</td>\n",
       "      <td>24276848.4</td>\n",
       "      <td>23840611.2</td>\n",
       "      <td>22321471.2</td>\n",
       "    </tr>\n",
       "    <tr>\n",
       "      <th>B</th>\n",
       "      <td>51268996.8</td>\n",
       "      <td>43428235.2</td>\n",
       "      <td>51969993.6</td>\n",
       "      <td>48189624.0</td>\n",
       "      <td>51604996.8</td>\n",
       "      <td>50862033.6</td>\n",
       "      <td>47755780.8</td>\n",
       "      <td>43223964.0</td>\n",
       "      <td>50332279.2</td>\n",
       "      <td>51434947.2</td>\n",
       "      <td>...</td>\n",
       "      <td>37898372.4</td>\n",
       "      <td>51057762.0</td>\n",
       "      <td>47767238.4</td>\n",
       "      <td>46625166.0</td>\n",
       "      <td>38587273.2</td>\n",
       "      <td>38607349.2</td>\n",
       "      <td>45186993.6</td>\n",
       "      <td>43232742.0</td>\n",
       "      <td>46108860.0</td>\n",
       "      <td>48040213.2</td>\n",
       "    </tr>\n",
       "    <tr>\n",
       "      <th>C</th>\n",
       "      <td>66438528.8</td>\n",
       "      <td>47711787.2</td>\n",
       "      <td>73627808.8</td>\n",
       "      <td>72618000.0</td>\n",
       "      <td>78580552.4</td>\n",
       "      <td>65198666.4</td>\n",
       "      <td>62116664.4</td>\n",
       "      <td>54763074.8</td>\n",
       "      <td>62078940.0</td>\n",
       "      <td>68301240.0</td>\n",
       "      <td>...</td>\n",
       "      <td>46653583.2</td>\n",
       "      <td>69269029.2</td>\n",
       "      <td>72749370.4</td>\n",
       "      <td>76708769.2</td>\n",
       "      <td>68027993.6</td>\n",
       "      <td>65495995.6</td>\n",
       "      <td>45431400.0</td>\n",
       "      <td>58516928.4</td>\n",
       "      <td>69741459.2</td>\n",
       "      <td>69463150.4</td>\n",
       "    </tr>\n",
       "  </tbody>\n",
       "</table>\n",
       "<p>3 rows × 35 columns</p>\n",
       "</div>"
      ],
      "text/plain": [
       "month      201701      201702      201703      201704      201705      201706  \\\n",
       "A      26797075.2  25329053.4  35317552.2  34397764.8  34989150.0  33888976.8   \n",
       "B      51268996.8  43428235.2  51969993.6  48189624.0  51604996.8  50862033.6   \n",
       "C      66438528.8  47711787.2  73627808.8  72618000.0  78580552.4  65198666.4   \n",
       "\n",
       "month      201707      201708      201709      201710     ...          201902  \\\n",
       "A      33116731.2  30149469.0  30555176.4  33389575.8     ...      23581752.6   \n",
       "B      47755780.8  43223964.0  50332279.2  51434947.2     ...      37898372.4   \n",
       "C      62116664.4  54763074.8  62078940.0  68301240.0     ...      46653583.2   \n",
       "\n",
       "month      201903      201904      201905      201906      201907      201908  \\\n",
       "A      30515461.2  33418287.0  34358616.6  33796522.2  30157142.4  30387079.8   \n",
       "B      51057762.0  47767238.4  46625166.0  38587273.2  38607349.2  45186993.6   \n",
       "C      69269029.2  72749370.4  76708769.2  68027993.6  65495995.6  45431400.0   \n",
       "\n",
       "month      201909      201910      201911  \n",
       "A      24276848.4  23840611.2  22321471.2  \n",
       "B      43232742.0  46108860.0  48040213.2  \n",
       "C      58516928.4  69741459.2  69463150.4  \n",
       "\n",
       "[3 rows x 35 columns]"
      ]
     },
     "execution_count": 25,
     "metadata": {},
     "output_type": "execute_result"
    }
   ],
   "source": [
    "month_by_co"
   ]
  },
  {
   "cell_type": "code",
   "execution_count": 26,
   "metadata": {},
   "outputs": [],
   "source": [
    "month_by_co.T.to_excel('month_by_co.xlsx')"
   ]
  },
  {
   "cell_type": "markdown",
   "metadata": {},
   "source": [
    "![month_by_co](month_by_co.png)"
   ]
  },
  {
   "cell_type": "markdown",
   "metadata": {},
   "source": []
  },
  {
   "cell_type": "code",
   "execution_count": 27,
   "metadata": {},
   "outputs": [],
   "source": [
    "years_by_co=pd.DataFrame([a_years_sum,b_years_sum,c_years_sum])\n",
    "years_by_co.index=['A','B','C']"
   ]
  },
  {
   "cell_type": "code",
   "execution_count": 28,
   "metadata": {},
   "outputs": [],
   "source": [
    "years_by_co.to_excel('years_by_co.xlsx')"
   ]
  },
  {
   "cell_type": "markdown",
   "metadata": {},
   "source": [
    "![years_by_co](years_by_co.png)"
   ]
  },
  {
   "cell_type": "code",
   "execution_count": 29,
   "metadata": {},
   "outputs": [
    {
     "data": {
      "image/png": "[encoded data removed]",
      "text/plain": [
       "<Figure size 864x576 with 1 Axes>"
      ]
     },
     "metadata": {
      "needs_background": "light"
     },
     "output_type": "display_data"
    }
   ],
   "source": [
    "des_month=month_by_co.T.describe().drop(['count','25%','50%','75%'])\n",
    "des_month.plot.bar(figsize=(12,8))\n",
    "plt.show()"
   ]
  },
  {
   "cell_type": "code",
   "execution_count": null,
   "metadata": {},
   "outputs": [],
   "source": []
  }
 ],
 "metadata": {
  "kernelspec": {
   "display_name": "Python 3",
   "language": "python",
   "name": "python3"
  },
  "language_info": {
   "codemirror_mode": {
    "name": "ipython",
    "version": 3
   },
   "file_extension": ".py",
   "mimetype": "text/x-python",
   "name": "python",
   "nbconvert_exporter": "python",
   "pygments_lexer": "ipython3",
   "version": "3.7.0"
  }
 },
 "nbformat": 4,
 "nbformat_minor": 2
}
